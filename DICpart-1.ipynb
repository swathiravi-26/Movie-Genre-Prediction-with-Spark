{
 "cells": [
  {
   "cell_type": "code",
   "execution_count": 1,
   "metadata": {},
   "outputs": [],
   "source": [
    "import findspark"
   ]
  },
  {
   "cell_type": "code",
   "execution_count": 2,
   "metadata": {},
   "outputs": [],
   "source": [
    "findspark.init()"
   ]
  },
  {
   "cell_type": "code",
   "execution_count": 3,
   "metadata": {},
   "outputs": [],
   "source": [
    "import pyspark"
   ]
  },
  {
   "cell_type": "code",
   "execution_count": 4,
   "metadata": {},
   "outputs": [],
   "source": [
    "from pyspark.sql import *\n"
   ]
  },
  {
   "cell_type": "code",
   "execution_count": 5,
   "metadata": {},
   "outputs": [],
   "source": [
    "from pyspark.ml.clustering import *"
   ]
  },
  {
   "cell_type": "code",
   "execution_count": 6,
   "metadata": {},
   "outputs": [],
   "source": [
    "spark = SparkSession \\\n",
    "    .builder \\\n",
    "    .appName(\"Pyspark Demotrialsm\") \\\n",
    "    .getOrCreate()"
   ]
  },
  {
   "cell_type": "code",
   "execution_count": 7,
   "metadata": {},
   "outputs": [],
   "source": [
    "df = spark.read.option(\"inferSchema\",\"true\").csv(\"C:/Users/17169/Documents/train.csv\")"
   ]
  },
  {
   "cell_type": "code",
   "execution_count": 8,
   "metadata": {},
   "outputs": [
    {
     "name": "stdout",
     "output_type": "stream",
     "text": [
      "+--------+--------------------+--------------------+--------------------+\n",
      "|     _c0|                 _c1|                 _c2|                 _c3|\n",
      "+--------+--------------------+--------------------+--------------------+\n",
      "|movie_id|          movie_name|                plot|               genre|\n",
      "|23890098|          Taxi Blues|Shlykov, a hard-w...|['World cinema', ...|\n",
      "|31186339|    The Hunger Games|\"The nation of Pa...| Peeta unexpected...|\n",
      "|20663735|          Narasimham|Poovalli Induchoo...|['Musical', 'Acti...|\n",
      "| 2231378|  The Lemon Drop Kid|\"The Lemon Drop K...| as does the mone...|\n",
      "|  595909|   A Cry in the Dark|\"Seventh-day Adve...| the public is qu...|\n",
      "| 5272176|            End Game|The president is ...|['Action/Adventur...|\n",
      "| 1952976|          Dark Water|\"{{plot}} The fil...| which is just a ...|\n",
      "|24225279|                Sing|The story begins ...|           ['Drama']|\n",
      "| 2462689|       Meet John Doe|\"Infuriated at be...| the newspaper ed...|\n",
      "|20532852|Destination Meatball|\"A line of people...| he sneaks in and...|\n",
      "|15401493|    Husband for Hire|Lola  attempts to...|          ['Comedy']|\n",
      "|18188932|         Up and Down|Milan and Goran a...|['Crime Fiction',...|\n",
      "| 2940516|Ghost In The Noon...|Bumbling pirate c...|          ['Comedy']|\n",
      "| 1480747|       House Party 2|\"{{plot}} Followi...| causing a rift b...|\n",
      "|24448645|Forest of the Dam...|Despite Lucy's re...|          ['Horror']|\n",
      "|15072401|Charlie Chan's Se...|Alan Colby, heir ...|['Crime Fiction',...|\n",
      "| 4018288|     The Biggest Fan|\"Debbie's favorit...|\"\" who thinks she...|\n",
      "| 4596602|      Ashes to Ashes|Ashes to Ashes is...|['Crime Fiction',...|\n",
      "|15224586|        Green Dragon|The film follows ...|  ['Indie', 'Drama']|\n",
      "+--------+--------------------+--------------------+--------------------+\n",
      "only showing top 20 rows\n",
      "\n"
     ]
    }
   ],
   "source": [
    "df.show()"
   ]
  },
  {
   "cell_type": "code",
   "execution_count": 9,
   "metadata": {},
   "outputs": [],
   "source": [
    "from pyspark.sql.functions import udf,col,lower,regexp_replace"
   ]
  },
  {
   "cell_type": "code",
   "execution_count": 10,
   "metadata": {},
   "outputs": [],
   "source": [
    "from pyspark.ml.feature import Tokenizer, StopWordsRemover"
   ]
  },
  {
   "cell_type": "code",
   "execution_count": 11,
   "metadata": {},
   "outputs": [],
   "source": [
    "df_clean = df.select('_c0',(lower(regexp_replace('_c2',\"[^a-zA-Z\\\\s]\",\"\")).alias('_c2')))"
   ]
  },
  {
   "cell_type": "code",
   "execution_count": 12,
   "metadata": {},
   "outputs": [
    {
     "name": "stdout",
     "output_type": "stream",
     "text": [
      "+--------+--------------------+\n",
      "|     _c0|                 _c2|\n",
      "+--------+--------------------+\n",
      "|movie_id|                plot|\n",
      "|23890098|shlykov a hardwor...|\n",
      "|31186339|the nation of pan...|\n",
      "|20663735|poovalli induchoo...|\n",
      "| 2231378|the lemon drop ki...|\n",
      "|  595909|seventhday advent...|\n",
      "| 5272176|the president is ...|\n",
      "| 1952976|plot the film ope...|\n",
      "|24225279|the story begins ...|\n",
      "| 2462689|infuriated at bei...|\n",
      "|20532852|a line of people ...|\n",
      "|15401493|lola  attempts to...|\n",
      "|18188932|milan and goran a...|\n",
      "| 2940516|bumbling pirate c...|\n",
      "| 1480747|plot following th...|\n",
      "|24448645|despite lucys res...|\n",
      "|15072401|alan colby heir t...|\n",
      "| 4018288|debbies favorite ...|\n",
      "| 4596602|ashes to ashes is...|\n",
      "|15224586|the film follows ...|\n",
      "+--------+--------------------+\n",
      "only showing top 20 rows\n",
      "\n"
     ]
    }
   ],
   "source": [
    "df_clean.show()"
   ]
  },
  {
   "cell_type": "code",
   "execution_count": 13,
   "metadata": {},
   "outputs": [],
   "source": [
    "tokenizer = Tokenizer(inputCol='_c2',outputCol='words_token')"
   ]
  },
  {
   "cell_type": "code",
   "execution_count": 14,
   "metadata": {},
   "outputs": [],
   "source": [
    "df_words_token = tokenizer.transform(df_clean).select('_c0','words_token')"
   ]
  },
  {
   "cell_type": "code",
   "execution_count": 15,
   "metadata": {},
   "outputs": [
    {
     "name": "stdout",
     "output_type": "stream",
     "text": [
      "+--------+--------------------+\n",
      "|     _c0|         words_token|\n",
      "+--------+--------------------+\n",
      "|movie_id|              [plot]|\n",
      "|23890098|[shlykov, a, hard...|\n",
      "|31186339|[the, nation, of,...|\n",
      "|20663735|[poovalli, induch...|\n",
      "| 2231378|[the, lemon, drop...|\n",
      "|  595909|[seventhday, adve...|\n",
      "| 5272176|[the, president, ...|\n",
      "| 1952976|[plot, the, film,...|\n",
      "|24225279|[the, story, begi...|\n",
      "| 2462689|[infuriated, at, ...|\n",
      "|20532852|[a, line, of, peo...|\n",
      "|15401493|[lola, , attempts...|\n",
      "|18188932|[milan, and, gora...|\n",
      "| 2940516|[bumbling, pirate...|\n",
      "| 1480747|[plot, following,...|\n",
      "|24448645|[despite, lucys, ...|\n",
      "|15072401|[alan, colby, hei...|\n",
      "| 4018288|[debbies, favorit...|\n",
      "| 4596602|[ashes, to, ashes...|\n",
      "|15224586|[the, film, follo...|\n",
      "+--------+--------------------+\n",
      "only showing top 20 rows\n",
      "\n"
     ]
    }
   ],
   "source": [
    "df_words_token.show()"
   ]
  },
  {
   "cell_type": "code",
   "execution_count": 16,
   "metadata": {},
   "outputs": [],
   "source": [
    "remover = StopWordsRemover(inputCol = 'words_token',outputCol='words_clean')"
   ]
  },
  {
   "cell_type": "code",
   "execution_count": 17,
   "metadata": {},
   "outputs": [],
   "source": [
    "df_words_no_stopw= remover.transform(df_words_token).select('_c0','words_clean')"
   ]
  },
  {
   "cell_type": "code",
   "execution_count": 18,
   "metadata": {},
   "outputs": [
    {
     "name": "stdout",
     "output_type": "stream",
     "text": [
      "+--------+--------------------+\n",
      "|     _c0|         words_clean|\n",
      "+--------+--------------------+\n",
      "|movie_id|              [plot]|\n",
      "|23890098|[shlykov, hardwor...|\n",
      "|31186339|[nation, panem, c...|\n",
      "|20663735|[poovalli, induch...|\n",
      "| 2231378|[lemon, drop, kid...|\n",
      "|  595909|[seventhday, adve...|\n",
      "| 5272176|[president, way, ...|\n",
      "| 1952976|[plot, film, open...|\n",
      "|24225279|[story, begins, h...|\n",
      "| 2462689|[infuriated, told...|\n",
      "|20532852|[line, people, , ...|\n",
      "|15401493|[lola, , attempts...|\n",
      "|18188932|[milan, goran, tw...|\n",
      "| 2940516|[bumbling, pirate...|\n",
      "| 1480747|[plot, following,...|\n",
      "|24448645|[despite, lucys, ...|\n",
      "|15072401|[alan, colby, hei...|\n",
      "| 4018288|[debbies, favorit...|\n",
      "| 4596602|[ashes, ashes, se...|\n",
      "|15224586|[film, follows, e...|\n",
      "+--------+--------------------+\n",
      "only showing top 20 rows\n",
      "\n"
     ]
    }
   ],
   "source": [
    "df_words_no_stopw.show()"
   ]
  },
  {
   "cell_type": "code",
   "execution_count": 19,
   "metadata": {},
   "outputs": [],
   "source": [
    "from pyspark.sql.types import *"
   ]
  },
  {
   "cell_type": "code",
   "execution_count": 20,
   "metadata": {},
   "outputs": [],
   "source": [
    "from pyspark.sql.types import StructType\n"
   ]
  },
  {
   "cell_type": "code",
   "execution_count": 21,
   "metadata": {},
   "outputs": [],
   "source": [
    "from pyspark.ml.feature import CountVectorizer"
   ]
  },
  {
   "cell_type": "code",
   "execution_count": 22,
   "metadata": {},
   "outputs": [],
   "source": [
    "cv = CountVectorizer(inputCol=\"words_clean\",outputCol=\"features\",minDF=5)"
   ]
  },
  {
   "cell_type": "code",
   "execution_count": 23,
   "metadata": {},
   "outputs": [
    {
     "data": {
      "text/plain": [
       "CountVectorizer_fc7c62e69ca9"
      ]
     },
     "execution_count": 23,
     "metadata": {},
     "output_type": "execute_result"
    }
   ],
   "source": [
    "cv"
   ]
  },
  {
   "cell_type": "code",
   "execution_count": 24,
   "metadata": {},
   "outputs": [],
   "source": [
    "model = cv.fit(df_words_no_stopw)"
   ]
  },
  {
   "cell_type": "code",
   "execution_count": 25,
   "metadata": {},
   "outputs": [],
   "source": [
    "result = model.transform(df_words_no_stopw)"
   ]
  },
  {
   "cell_type": "code",
   "execution_count": null,
   "metadata": {},
   "outputs": [],
   "source": [
    "result.columns"
   ]
  },
  {
   "cell_type": "code",
   "execution_count": 26,
   "metadata": {},
   "outputs": [],
   "source": [
    "import pandas as pd"
   ]
  },
  {
   "cell_type": "code",
   "execution_count": 27,
   "metadata": {},
   "outputs": [],
   "source": [
    "xx = pd.read_csv(\"C:/Users/17169/Documents/train.csv\")"
   ]
  },
  {
   "cell_type": "code",
   "execution_count": 28,
   "metadata": {},
   "outputs": [],
   "source": [
    "drama=[]\n"
   ]
  },
  {
   "cell_type": "code",
   "execution_count": null,
   "metadata": {},
   "outputs": [],
   "source": [
    "drama"
   ]
  },
  {
   "cell_type": "code",
   "execution_count": 30,
   "metadata": {},
   "outputs": [],
   "source": [
    "xxx_list = xxx.tolist()"
   ]
  },
  {
   "cell_type": "code",
   "execution_count": 31,
   "metadata": {},
   "outputs": [],
   "source": [
    "xxx_list = xxx_list[:10]"
   ]
  },
  {
   "cell_type": "code",
   "execution_count": 29,
   "metadata": {},
   "outputs": [],
   "source": [
    "xxx = xx['genre']"
   ]
  },
  {
   "cell_type": "code",
   "execution_count": 32,
   "metadata": {},
   "outputs": [],
   "source": [
    "comedy=[]\n",
    "romantic_comedy=[]\n",
    "romance_film=[]"
   ]
  },
  {
   "cell_type": "code",
   "execution_count": 33,
   "metadata": {},
   "outputs": [
    {
     "name": "stdout",
     "output_type": "stream",
     "text": [
      "['World cinema', 'Drama']\n",
      "1\n",
      "['Action/Adventure', 'Action', 'Science Fiction', 'Drama']\n",
      "1\n",
      "['Musical', 'Action', 'Drama']\n",
      "1\n",
      "['Comedy']\n",
      "2\n",
      "['Crime Fiction', 'World cinema', 'Drama']\n",
      "1\n",
      "['Action/Adventure', 'Action', 'Thriller', 'Drama']\n",
      "1\n",
      "['Thriller', 'Drama', 'Horror']\n",
      "1\n",
      "['Drama']\n",
      "1\n",
      "['Black-and-white', 'Comedy', 'Romance Film', 'Romantic comedy', 'Drama']\n",
      "1\n",
      "['Animation', 'Short Film', 'Family Film']\n",
      "2\n"
     ]
    }
   ],
   "source": [
    "from re import search\n",
    "for line in xxx_list:\n",
    "        print(line)\n",
    "        if search(\"Drama\", line):\n",
    "            print(\"1\")\n",
    "            drama.append(1)\n",
    "        else:\n",
    "            print(\"2\")\n",
    "            drama.append(0)"
   ]
  },
  {
   "cell_type": "code",
   "execution_count": 34,
   "metadata": {},
   "outputs": [
    {
     "name": "stdout",
     "output_type": "stream",
     "text": [
      "['World cinema', 'Drama']\n",
      "2\n",
      "['Action/Adventure', 'Action', 'Science Fiction', 'Drama']\n",
      "2\n",
      "['Musical', 'Action', 'Drama']\n",
      "2\n",
      "['Comedy']\n",
      "1\n",
      "['Crime Fiction', 'World cinema', 'Drama']\n",
      "2\n",
      "['Action/Adventure', 'Action', 'Thriller', 'Drama']\n",
      "2\n",
      "['Thriller', 'Drama', 'Horror']\n",
      "2\n",
      "['Drama']\n",
      "2\n",
      "['Black-and-white', 'Comedy', 'Romance Film', 'Romantic comedy', 'Drama']\n",
      "1\n",
      "['Animation', 'Short Film', 'Family Film']\n",
      "2\n"
     ]
    }
   ],
   "source": [
    "from re import search\n",
    "for line in xxx_list:\n",
    "    #line = line.strip()\n",
    "    #words = line.split(',')\n",
    "    #for word in line:\n",
    "        print(line)\n",
    "        if search(\"Comedy\", line):\n",
    "            print(\"1\")\n",
    "            comedy.append(1)\n",
    "        else:\n",
    "            print(\"2\")\n",
    "            comedy.append(0)"
   ]
  },
  {
   "cell_type": "code",
   "execution_count": 44,
   "metadata": {},
   "outputs": [],
   "source": [
    "from pyspark.ml.classification import LogisticRegression"
   ]
  },
  {
   "cell_type": "code",
   "execution_count": 45,
   "metadata": {},
   "outputs": [],
   "source": [
    "lr = LogisticRegression(labelCol=\"drama\",featuresCol=\"features\",maxIter=10)"
   ]
  },
  {
   "cell_type": "code",
   "execution_count": 65,
   "metadata": {},
   "outputs": [],
   "source": [
    "lr_2 = LogisticRegression(labelCol=\"comedy\",featuresCol=\"features\",maxIter=10)"
   ]
  },
  {
   "cell_type": "code",
   "execution_count": 111,
   "metadata": {},
   "outputs": [],
   "source": [
    "lr_3 = LogisticRegression(labelCol=\"romance_film\",featuresCol=\"features\",maxIter=10)"
   ]
  },
  {
   "cell_type": "code",
   "execution_count": 117,
   "metadata": {},
   "outputs": [],
   "source": [
    "lr_4 = LogisticRegression(labelCol=\"thriller\",featuresCol=\"features\",maxIter=10)"
   ]
  },
  {
   "cell_type": "code",
   "execution_count": 127,
   "metadata": {},
   "outputs": [],
   "source": [
    "lr_5 = LogisticRegression(labelCol=\"action\",featuresCol=\"features\",maxIter=10)"
   ]
  },
  {
   "cell_type": "code",
   "execution_count": 134,
   "metadata": {},
   "outputs": [],
   "source": [
    "lr_6 = LogisticRegression(labelCol=\"world_cinema\",featuresCol=\"features\",maxIter=10)"
   ]
  },
  {
   "cell_type": "code",
   "execution_count": 141,
   "metadata": {},
   "outputs": [],
   "source": [
    "lr_7 = LogisticRegression(labelCol=\"crime_fiction\",featuresCol=\"features\",maxIter=10)"
   ]
  },
  {
   "cell_type": "code",
   "execution_count": 148,
   "metadata": {},
   "outputs": [],
   "source": [
    "lr_8 = LogisticRegression(labelCol=\"horror\",featuresCol=\"features\",maxIter=10)"
   ]
  },
  {
   "cell_type": "code",
   "execution_count": 46,
   "metadata": {},
   "outputs": [],
   "source": [
    "lrModel = lr.fit(final_df)"
   ]
  },
  {
   "cell_type": "code",
   "execution_count": 62,
   "metadata": {},
   "outputs": [],
   "source": [
    "final_df = final_df.drop('drama')"
   ]
  },
  {
   "cell_type": "code",
   "execution_count": 66,
   "metadata": {},
   "outputs": [],
   "source": [
    "lrModel_2 = lr_2.fit(final_df)"
   ]
  },
  {
   "cell_type": "code",
   "execution_count": 69,
   "metadata": {},
   "outputs": [],
   "source": [
    "final_df = final_df.drop('comedy')"
   ]
  },
  {
   "cell_type": "code",
   "execution_count": 112,
   "metadata": {},
   "outputs": [],
   "source": [
    "lrModel_3 = lr_3.fit(final_df)"
   ]
  },
  {
   "cell_type": "code",
   "execution_count": 115,
   "metadata": {},
   "outputs": [],
   "source": [
    "final_df = final_df.drop('romance_film')"
   ]
  },
  {
   "cell_type": "code",
   "execution_count": 121,
   "metadata": {},
   "outputs": [],
   "source": [
    "lrModel_4 = lr_4.fit(final_df)"
   ]
  },
  {
   "cell_type": "code",
   "execution_count": 124,
   "metadata": {},
   "outputs": [],
   "source": [
    "final_df = final_df.drop('thriller')"
   ]
  },
  {
   "cell_type": "code",
   "execution_count": 128,
   "metadata": {},
   "outputs": [],
   "source": [
    "lrModel_5 = lr_5.fit(final_df)"
   ]
  },
  {
   "cell_type": "code",
   "execution_count": 131,
   "metadata": {},
   "outputs": [],
   "source": [
    "final_df = final_df.drop('action')"
   ]
  },
  {
   "cell_type": "code",
   "execution_count": 135,
   "metadata": {},
   "outputs": [],
   "source": [
    "lrModel_6 = lr_6.fit(final_df)"
   ]
  },
  {
   "cell_type": "code",
   "execution_count": 138,
   "metadata": {},
   "outputs": [],
   "source": [
    "final_df = final_df.drop('world_cinema')"
   ]
  },
  {
   "cell_type": "code",
   "execution_count": 142,
   "metadata": {},
   "outputs": [],
   "source": [
    "lrModel_7 = lr_7.fit(final_df)"
   ]
  },
  {
   "cell_type": "code",
   "execution_count": 143,
   "metadata": {},
   "outputs": [],
   "source": [
    "predictions_crimefiction = lrModel_7.transform(result_test)"
   ]
  },
  {
   "cell_type": "code",
   "execution_count": 144,
   "metadata": {},
   "outputs": [
    {
     "name": "stdout",
     "output_type": "stream",
     "text": [
      "The area under ROC for test set is 1.0\n"
     ]
    }
   ],
   "source": [
    "print(\"The area under ROC for test set is {}\".format(evaluator.evaluate(predictions_crimefiction)))"
   ]
  },
  {
   "cell_type": "code",
   "execution_count": 145,
   "metadata": {},
   "outputs": [],
   "source": [
    "final_df = final_df.drop('crime_fiction')"
   ]
  },
  {
   "cell_type": "code",
   "execution_count": 149,
   "metadata": {},
   "outputs": [],
   "source": [
    "lrModel_8 = lr_8.fit(final_df)"
   ]
  },
  {
   "cell_type": "code",
   "execution_count": 150,
   "metadata": {},
   "outputs": [],
   "source": [
    "predictions_horror = lrModel_8.transform(result_test)"
   ]
  },
  {
   "cell_type": "code",
   "execution_count": 151,
   "metadata": {},
   "outputs": [
    {
     "name": "stdout",
     "output_type": "stream",
     "text": [
      "The area under ROC for test set is 1.0\n"
     ]
    }
   ],
   "source": [
    "print(\"The area under ROC for test set is {}\".format(evaluator.evaluate(predictions_horror)))"
   ]
  },
  {
   "cell_type": "code",
   "execution_count": 154,
   "metadata": {},
   "outputs": [],
   "source": [
    "lr_9 = LogisticRegression(labelCol=\"bnw\",featuresCol=\"features\",maxIter=10)"
   ]
  },
  {
   "cell_type": "code",
   "execution_count": 155,
   "metadata": {},
   "outputs": [],
   "source": [
    "lrModel_9 = lr_9.fit(final_df)"
   ]
  },
  {
   "cell_type": "code",
   "execution_count": 156,
   "metadata": {},
   "outputs": [],
   "source": [
    "predictions_bnw = lrModel_9.transform(result_test)"
   ]
  },
  {
   "cell_type": "code",
   "execution_count": 157,
   "metadata": {},
   "outputs": [
    {
     "name": "stdout",
     "output_type": "stream",
     "text": [
      "The area under ROC for test set is 1.0\n"
     ]
    }
   ],
   "source": [
    "print(\"The area under ROC for test set is {}\".format(evaluator.evaluate(predictions_bnw)))"
   ]
  },
  {
   "cell_type": "code",
   "execution_count": 158,
   "metadata": {},
   "outputs": [],
   "source": [
    "final_df = final_df.drop('horror')"
   ]
  },
  {
   "cell_type": "code",
   "execution_count": 159,
   "metadata": {},
   "outputs": [],
   "source": [
    "final_df = final_df.drop('bnw')"
   ]
  },
  {
   "cell_type": "code",
   "execution_count": 162,
   "metadata": {},
   "outputs": [],
   "source": [
    "lr_10 = LogisticRegression(labelCol=\"indie\",featuresCol=\"features\",maxIter=10)"
   ]
  },
  {
   "cell_type": "code",
   "execution_count": 163,
   "metadata": {},
   "outputs": [],
   "source": [
    "lrModel_10 = lr_10.fit(final_df)"
   ]
  },
  {
   "cell_type": "code",
   "execution_count": 166,
   "metadata": {},
   "outputs": [],
   "source": [
    "final_df = final_df.drop('indie')"
   ]
  },
  {
   "cell_type": "code",
   "execution_count": 169,
   "metadata": {},
   "outputs": [],
   "source": [
    "lr_11 = LogisticRegression(labelCol=\"ana\",featuresCol=\"features\",maxIter=10)"
   ]
  },
  {
   "cell_type": "code",
   "execution_count": 170,
   "metadata": {},
   "outputs": [],
   "source": [
    "lrModel_11 = lr_11.fit(final_df)"
   ]
  },
  {
   "cell_type": "code",
   "execution_count": 171,
   "metadata": {},
   "outputs": [],
   "source": [
    "predictions_ana = lrModel_11.transform(result_test)"
   ]
  },
  {
   "cell_type": "code",
   "execution_count": 172,
   "metadata": {},
   "outputs": [],
   "source": [
    "final_df = final_df.drop('ana')"
   ]
  },
  {
   "cell_type": "code",
   "execution_count": 175,
   "metadata": {},
   "outputs": [],
   "source": [
    "lr_12 = LogisticRegression(labelCol=\"adventure\",featuresCol=\"features\",maxIter=10)"
   ]
  },
  {
   "cell_type": "code",
   "execution_count": 176,
   "metadata": {},
   "outputs": [],
   "source": [
    "lrModel_12 = lr_12.fit(final_df)"
   ]
  },
  {
   "cell_type": "code",
   "execution_count": 177,
   "metadata": {},
   "outputs": [],
   "source": [
    "predictions_adventure = lrModel_12.transform(result_test)"
   ]
  },
  {
   "cell_type": "code",
   "execution_count": 178,
   "metadata": {},
   "outputs": [
    {
     "name": "stdout",
     "output_type": "stream",
     "text": [
      "The area under ROC for test set is 1.0\n"
     ]
    }
   ],
   "source": [
    "print(\"The area under ROC for test set is {}\".format(evaluator.evaluate(predictions_adventure)))"
   ]
  },
  {
   "cell_type": "code",
   "execution_count": 181,
   "metadata": {},
   "outputs": [],
   "source": [
    "lr_13 = LogisticRegression(labelCol=\"family_film\",featuresCol=\"features\",maxIter=10)"
   ]
  },
  {
   "cell_type": "code",
   "execution_count": 182,
   "metadata": {},
   "outputs": [],
   "source": [
    "lrModel_13 = lr_13.fit(final_df)"
   ]
  },
  {
   "cell_type": "code",
   "execution_count": 183,
   "metadata": {},
   "outputs": [],
   "source": [
    "predictions_family_film = lrModel_13.transform(result_test)"
   ]
  },
  {
   "cell_type": "code",
   "execution_count": 184,
   "metadata": {},
   "outputs": [
    {
     "name": "stdout",
     "output_type": "stream",
     "text": [
      "The area under ROC for test set is 1.0\n"
     ]
    }
   ],
   "source": [
    "print(\"The area under ROC for test set is {}\".format(evaluator.evaluate(predictions_family_film)))"
   ]
  },
  {
   "cell_type": "code",
   "execution_count": 189,
   "metadata": {},
   "outputs": [],
   "source": [
    "lr_14 = LogisticRegression(labelCol=\"short_film\",featuresCol=\"features\",maxIter=10)"
   ]
  },
  {
   "cell_type": "code",
   "execution_count": 185,
   "metadata": {},
   "outputs": [],
   "source": [
    "final_df = final_df.drop('adventure')"
   ]
  },
  {
   "cell_type": "code",
   "execution_count": 186,
   "metadata": {},
   "outputs": [],
   "source": [
    "final_df = final_df.drop('family_film')"
   ]
  },
  {
   "cell_type": "code",
   "execution_count": 190,
   "metadata": {},
   "outputs": [],
   "source": [
    "lrModel_14 = lr_14.fit(final_df)"
   ]
  },
  {
   "cell_type": "code",
   "execution_count": 191,
   "metadata": {},
   "outputs": [],
   "source": [
    "predictions_short_film = lrModel_14.transform(result_test)"
   ]
  },
  {
   "cell_type": "code",
   "execution_count": 192,
   "metadata": {},
   "outputs": [
    {
     "name": "stdout",
     "output_type": "stream",
     "text": [
      "The area under ROC for test set is 1.0\n"
     ]
    }
   ],
   "source": [
    "print(\"The area under ROC for test set is {}\".format(evaluator.evaluate(predictions_short_film)))"
   ]
  },
  {
   "cell_type": "code",
   "execution_count": 193,
   "metadata": {},
   "outputs": [],
   "source": [
    "final_df = final_df.drop('short_film')"
   ]
  },
  {
   "cell_type": "code",
   "execution_count": 196,
   "metadata": {},
   "outputs": [],
   "source": [
    "lr_15 = LogisticRegression(labelCol=\"romantic_drama\",featuresCol=\"features\",maxIter=10)"
   ]
  },
  {
   "cell_type": "code",
   "execution_count": 197,
   "metadata": {},
   "outputs": [],
   "source": [
    "lrModel_15 = lr_15.fit(final_df)"
   ]
  },
  {
   "cell_type": "code",
   "execution_count": 198,
   "metadata": {},
   "outputs": [],
   "source": [
    "predictions_romantic_drama = lrModel_15.transform(result_test)"
   ]
  },
  {
   "cell_type": "code",
   "execution_count": 199,
   "metadata": {},
   "outputs": [
    {
     "name": "stdout",
     "output_type": "stream",
     "text": [
      "The area under ROC for test set is 0.0\n"
     ]
    }
   ],
   "source": [
    "print(\"The area under ROC for test set is {}\".format(evaluator.evaluate(predictions_romantic_drama)))"
   ]
  },
  {
   "cell_type": "code",
   "execution_count": 200,
   "metadata": {},
   "outputs": [],
   "source": [
    "final_df = final_df.drop('romantic_drama')"
   ]
  },
  {
   "cell_type": "code",
   "execution_count": 203,
   "metadata": {},
   "outputs": [],
   "source": [
    "lr_16 = LogisticRegression(labelCol=\"animation\",featuresCol=\"features\",maxIter=10)"
   ]
  },
  {
   "cell_type": "code",
   "execution_count": 204,
   "metadata": {},
   "outputs": [],
   "source": [
    "lrModel_16 = lr_16.fit(final_df)"
   ]
  },
  {
   "cell_type": "code",
   "execution_count": 205,
   "metadata": {},
   "outputs": [],
   "source": [
    "predictions_animation = lrModel_16.transform(result_test)"
   ]
  },
  {
   "cell_type": "code",
   "execution_count": 206,
   "metadata": {},
   "outputs": [
    {
     "name": "stdout",
     "output_type": "stream",
     "text": [
      "The area under ROC for test set is 1.0\n"
     ]
    }
   ],
   "source": [
    "print(\"The area under ROC for test set is {}\".format(evaluator.evaluate(predictions_animation)))"
   ]
  },
  {
   "cell_type": "code",
   "execution_count": 209,
   "metadata": {},
   "outputs": [],
   "source": [
    "lr_17 = LogisticRegression(labelCol=\"musical\",featuresCol=\"features\",maxIter=10)"
   ]
  },
  {
   "cell_type": "code",
   "execution_count": 210,
   "metadata": {},
   "outputs": [],
   "source": [
    "lrModel_17 = lr_17.fit(final_df)"
   ]
  },
  {
   "cell_type": "code",
   "execution_count": 211,
   "metadata": {},
   "outputs": [],
   "source": [
    "predictions_musical = lrModel_17.transform(result_test)"
   ]
  },
  {
   "cell_type": "code",
   "execution_count": 212,
   "metadata": {},
   "outputs": [
    {
     "name": "stdout",
     "output_type": "stream",
     "text": [
      "The area under ROC for test set is 1.0\n"
     ]
    }
   ],
   "source": [
    "print(\"The area under ROC for test set is {}\".format(evaluator.evaluate(predictions_musical)))"
   ]
  },
  {
   "cell_type": "code",
   "execution_count": 213,
   "metadata": {},
   "outputs": [],
   "source": [
    "final_df = final_df.drop('musical')"
   ]
  },
  {
   "cell_type": "code",
   "execution_count": 214,
   "metadata": {},
   "outputs": [],
   "source": [
    "final_df = final_df.drop('animation')"
   ]
  },
  {
   "cell_type": "code",
   "execution_count": 217,
   "metadata": {},
   "outputs": [],
   "source": [
    "lr_18 = LogisticRegression(labelCol=\"science_fiction\",featuresCol=\"features\",maxIter=10)"
   ]
  },
  {
   "cell_type": "code",
   "execution_count": 218,
   "metadata": {},
   "outputs": [],
   "source": [
    "lrModel_18 = lr_18.fit(final_df)"
   ]
  },
  {
   "cell_type": "code",
   "execution_count": 219,
   "metadata": {},
   "outputs": [],
   "source": [
    "predictions_science_fiction = lrModel_18.transform(result_test)"
   ]
  },
  {
   "cell_type": "code",
   "execution_count": 220,
   "metadata": {},
   "outputs": [
    {
     "name": "stdout",
     "output_type": "stream",
     "text": [
      "The area under ROC for test set is 1.0\n"
     ]
    }
   ],
   "source": [
    "print(\"The area under ROC for test set is {}\".format(evaluator.evaluate(predictions_science_fiction)))"
   ]
  },
  {
   "cell_type": "code",
   "execution_count": 224,
   "metadata": {},
   "outputs": [],
   "source": [
    "lr_19 = LogisticRegression(labelCol=\"mystery\",featuresCol=\"features\",maxIter=10)"
   ]
  },
  {
   "cell_type": "code",
   "execution_count": 221,
   "metadata": {},
   "outputs": [],
   "source": [
    "final_df = final_df.drop('science_fiction')"
   ]
  },
  {
   "cell_type": "code",
   "execution_count": 225,
   "metadata": {},
   "outputs": [],
   "source": [
    "lrModel_19 = lr_19.fit(final_df)"
   ]
  },
  {
   "cell_type": "code",
   "execution_count": 226,
   "metadata": {},
   "outputs": [],
   "source": [
    "predictions_mystery = lrModel_19.transform(result_test)"
   ]
  },
  {
   "cell_type": "code",
   "execution_count": 227,
   "metadata": {},
   "outputs": [
    {
     "name": "stdout",
     "output_type": "stream",
     "text": [
      "The area under ROC for test set is 0.0\n"
     ]
    }
   ],
   "source": [
    "print(\"The area under ROC for test set is {}\".format(evaluator.evaluate(predictions_mystery)))"
   ]
  },
  {
   "cell_type": "code",
   "execution_count": 230,
   "metadata": {},
   "outputs": [],
   "source": [
    "lr_20 = LogisticRegression(labelCol=\"romantic_comedy\",featuresCol=\"features\",maxIter=10)"
   ]
  },
  {
   "cell_type": "code",
   "execution_count": 231,
   "metadata": {},
   "outputs": [],
   "source": [
    "lrModel_20 = lr_20.fit(final_df)"
   ]
  },
  {
   "cell_type": "code",
   "execution_count": 232,
   "metadata": {},
   "outputs": [],
   "source": [
    "predictions_romantic_comedy = lrModel_20.transform(result_test)"
   ]
  },
  {
   "cell_type": "code",
   "execution_count": 234,
   "metadata": {},
   "outputs": [
    {
     "name": "stdout",
     "output_type": "stream",
     "text": [
      "The area under ROC for test set is 0.0\n"
     ]
    }
   ],
   "source": [
    "print(\"The area under ROC for test set is {}\".format(evaluator.evaluate(predictions_romantic_comedy)))"
   ]
  },
  {
   "cell_type": "code",
   "execution_count": 233,
   "metadata": {},
   "outputs": [],
   "source": [
    "predictions_musical = lrModel_17.transform(result_test)"
   ]
  },
  {
   "cell_type": "code",
   "execution_count": null,
   "metadata": {},
   "outputs": [],
   "source": [
    "predictions_animation.show()"
   ]
  },
  {
   "cell_type": "code",
   "execution_count": 136,
   "metadata": {},
   "outputs": [],
   "source": [
    "predictions_worldcinema = lrModel_6.transform(result_test)"
   ]
  },
  {
   "cell_type": "code",
   "execution_count": 137,
   "metadata": {},
   "outputs": [
    {
     "name": "stdout",
     "output_type": "stream",
     "text": [
      "The area under ROC for test set is 1.0\n"
     ]
    }
   ],
   "source": [
    "print(\"The area under ROC for test set is {}\".format(evaluator.evaluate(predictions_worldcinema)))"
   ]
  },
  {
   "cell_type": "code",
   "execution_count": 164,
   "metadata": {},
   "outputs": [],
   "source": [
    "predictions_indie = lrModel_10.transform(result_test)"
   ]
  },
  {
   "cell_type": "code",
   "execution_count": 165,
   "metadata": {},
   "outputs": [
    {
     "name": "stdout",
     "output_type": "stream",
     "text": [
      "The area under ROC for test set is 0.0\n"
     ]
    }
   ],
   "source": [
    "print(\"The area under ROC for test set is {}\".format(evaluator.evaluate(predictions_indie)))"
   ]
  },
  {
   "cell_type": "code",
   "execution_count": 129,
   "metadata": {},
   "outputs": [],
   "source": [
    "predictions_action = lrModel_5.transform(result_test)"
   ]
  },
  {
   "cell_type": "code",
   "execution_count": 130,
   "metadata": {},
   "outputs": [
    {
     "name": "stdout",
     "output_type": "stream",
     "text": [
      "The area under ROC for test set is 1.0\n"
     ]
    }
   ],
   "source": [
    "print(\"The area under ROC for test set is {}\".format(evaluator.evaluate(predictions_action)))"
   ]
  },
  {
   "cell_type": "code",
   "execution_count": 122,
   "metadata": {},
   "outputs": [],
   "source": [
    "predictions_thriller = lrModel_4.transform(result_test)"
   ]
  },
  {
   "cell_type": "code",
   "execution_count": 123,
   "metadata": {},
   "outputs": [
    {
     "name": "stdout",
     "output_type": "stream",
     "text": [
      "The area under ROC for test set is 1.0\n"
     ]
    }
   ],
   "source": [
    "print(\"The area under ROC for test set is {}\".format(evaluator.evaluate(predictions_thriller)))"
   ]
  },
  {
   "cell_type": "code",
   "execution_count": 67,
   "metadata": {},
   "outputs": [],
   "source": [
    "predictions_comedy = lrModel_2.transform(result_test)"
   ]
  },
  {
   "cell_type": "code",
   "execution_count": 68,
   "metadata": {},
   "outputs": [
    {
     "name": "stdout",
     "output_type": "stream",
     "text": [
      "The area under ROC for test set is 1.0\n"
     ]
    }
   ],
   "source": [
    "print(\"The area under ROC for test set is {}\".format(evaluator.evaluate(predictions_comedy)))"
   ]
  },
  {
   "cell_type": "code",
   "execution_count": 59,
   "metadata": {},
   "outputs": [],
   "source": [
    "predictions_drama = lrModel.transform(result_test)"
   ]
  },
  {
   "cell_type": "code",
   "execution_count": 60,
   "metadata": {},
   "outputs": [],
   "source": [
    "from pyspark.ml.evaluation import BinaryClassificationEvaluator\n",
    "evaluator=BinaryClassificationEvaluator(rawPredictionCol=\"rawPrediction\", labelCol=\"prediction\")"
   ]
  },
  {
   "cell_type": "code",
   "execution_count": 61,
   "metadata": {},
   "outputs": [
    {
     "name": "stdout",
     "output_type": "stream",
     "text": [
      "The area under ROC for test set is 1.0\n"
     ]
    }
   ],
   "source": [
    "print(\"The area under ROC for test set is {}\".format(evaluator.evaluate(predictions_drama)))"
   ]
  },
  {
   "cell_type": "code",
   "execution_count": 113,
   "metadata": {},
   "outputs": [],
   "source": [
    "predictions_romancefilm = lrModel_3.transform(result_test)"
   ]
  },
  {
   "cell_type": "code",
   "execution_count": 114,
   "metadata": {},
   "outputs": [
    {
     "name": "stdout",
     "output_type": "stream",
     "text": [
      "The area under ROC for test set is 1.0\n"
     ]
    }
   ],
   "source": [
    "print(\"The area under ROC for test set is {}\".format(evaluator.evaluate(predictions_romancefilm)))"
   ]
  },
  {
   "cell_type": "code",
   "execution_count": null,
   "metadata": {},
   "outputs": [],
   "source": [
    "type(result)"
   ]
  },
  {
   "cell_type": "code",
   "execution_count": null,
   "metadata": {},
   "outputs": [],
   "source": [
    "predictions_romancefilm.show()"
   ]
  },
  {
   "cell_type": "code",
   "execution_count": null,
   "metadata": {},
   "outputs": [],
   "source": [
    "predictions_comedy.show()"
   ]
  },
  {
   "cell_type": "code",
   "execution_count": null,
   "metadata": {},
   "outputs": [],
   "source": [
    "predictions_drama.show()"
   ]
  },
  {
   "cell_type": "code",
   "execution_count": null,
   "metadata": {},
   "outputs": [],
   "source": [
    "result1 = result"
   ]
  },
  {
   "cell_type": "code",
   "execution_count": 40,
   "metadata": {},
   "outputs": [],
   "source": [
    "from pyspark.sql.functions import monotonically_increasing_id, row_number\n",
    "b = sqlContext.createDataFrame([(i,) for i in drama], [\"drama\"])"
   ]
  },
  {
   "cell_type": "code",
   "execution_count": 41,
   "metadata": {},
   "outputs": [],
   "source": [
    "c= sqlContext.createDataFrame([(i,) for i in comedy], [\"comedy\"])"
   ]
  },
  {
   "cell_type": "code",
   "execution_count": 87,
   "metadata": {},
   "outputs": [],
   "source": [
    "d= sqlContext.createDataFrame([(i,) for i in romance_film], [\"romance_film\"])"
   ]
  },
  {
   "cell_type": "code",
   "execution_count": 88,
   "metadata": {},
   "outputs": [],
   "source": [
    "e=sqlContext.createDataFrame([(i,) for i in thriller], [\"thriller\"])"
   ]
  },
  {
   "cell_type": "code",
   "execution_count": 89,
   "metadata": {},
   "outputs": [],
   "source": [
    "f= sqlContext.createDataFrame([(i,) for i in action], [\"action\"])"
   ]
  },
  {
   "cell_type": "code",
   "execution_count": 90,
   "metadata": {},
   "outputs": [],
   "source": [
    "g = sqlContext.createDataFrame([(i,) for i in world_cinema], [\"world_cinema\"])"
   ]
  },
  {
   "cell_type": "code",
   "execution_count": 91,
   "metadata": {},
   "outputs": [],
   "source": [
    "h = sqlContext.createDataFrame([(i,) for i in crime_fiction], [\"crime_fiction\"])"
   ]
  },
  {
   "cell_type": "code",
   "execution_count": 92,
   "metadata": {},
   "outputs": [],
   "source": [
    "i_horror = sqlContext.createDataFrame([(i,) for i in horror], [\"horror\"])"
   ]
  },
  {
   "cell_type": "code",
   "execution_count": 93,
   "metadata": {},
   "outputs": [],
   "source": [
    "j = sqlContext.createDataFrame([(i,) for i in bnw], [\"bnw\"])"
   ]
  },
  {
   "cell_type": "code",
   "execution_count": 94,
   "metadata": {},
   "outputs": [],
   "source": [
    "k =  sqlContext.createDataFrame([(i,) for i in indie], [\"indie\"])"
   ]
  },
  {
   "cell_type": "code",
   "execution_count": 97,
   "metadata": {},
   "outputs": [],
   "source": [
    "l = sqlContext.createDataFrame([(i,) for i in ana], [\"ana\"])"
   ]
  },
  {
   "cell_type": "code",
   "execution_count": 98,
   "metadata": {},
   "outputs": [],
   "source": [
    "m = sqlContext.createDataFrame([(i,) for i in adventure], [\"adventure\"])"
   ]
  },
  {
   "cell_type": "code",
   "execution_count": 101,
   "metadata": {},
   "outputs": [],
   "source": [
    "n = sqlContext.createDataFrame([(i,) for i in family_film], [\"family_film\"])"
   ]
  },
  {
   "cell_type": "code",
   "execution_count": 102,
   "metadata": {},
   "outputs": [],
   "source": [
    "o = sqlContext.createDataFrame([(i,) for i in short_film], [\"short_film\"])"
   ]
  },
  {
   "cell_type": "code",
   "execution_count": 103,
   "metadata": {},
   "outputs": [],
   "source": [
    "p = sqlContext.createDataFrame([(i,) for i in romantic_drama], [\"romantic_drama\"])"
   ]
  },
  {
   "cell_type": "code",
   "execution_count": 104,
   "metadata": {},
   "outputs": [],
   "source": [
    "q = sqlContext.createDataFrame([(i,) for i in animation], [\"animation\"])"
   ]
  },
  {
   "cell_type": "code",
   "execution_count": 105,
   "metadata": {},
   "outputs": [],
   "source": [
    "r = sqlContext.createDataFrame([(i,) for i in musical], [\"musical\"])"
   ]
  },
  {
   "cell_type": "code",
   "execution_count": 106,
   "metadata": {},
   "outputs": [],
   "source": [
    "s = sqlContext.createDataFrame([(i,) for i in science_fiction], [\"science_fiction\"])"
   ]
  },
  {
   "cell_type": "code",
   "execution_count": 107,
   "metadata": {},
   "outputs": [],
   "source": [
    "t = sqlContext.createDataFrame([(i,) for i in mystery], [\"mystery\"])"
   ]
  },
  {
   "cell_type": "code",
   "execution_count": 108,
   "metadata": {},
   "outputs": [],
   "source": [
    "u = sqlContext.createDataFrame([(i,) for i in romantic_comedy], [\"romantic_comedy\"])"
   ]
  },
  {
   "cell_type": "code",
   "execution_count": null,
   "metadata": {},
   "outputs": [],
   "source": []
  },
  {
   "cell_type": "code",
   "execution_count": 42,
   "metadata": {},
   "outputs": [],
   "source": [
    "new_df = result.withColumn(\"row_idx\", row_number().over(Window.orderBy(monotonically_increasing_id())))\n",
    "b = b.withColumn(\"row_idx\", row_number().over(Window.orderBy(monotonically_increasing_id())))"
   ]
  },
  {
   "cell_type": "code",
   "execution_count": 63,
   "metadata": {},
   "outputs": [],
   "source": [
    "new_df = final_df.withColumn(\"row_idx\", row_number().over(Window.orderBy(monotonically_increasing_id())))\n",
    "c = c.withColumn(\"row_idx\", row_number().over(Window.orderBy(monotonically_increasing_id())))"
   ]
  },
  {
   "cell_type": "code",
   "execution_count": 109,
   "metadata": {},
   "outputs": [],
   "source": [
    "new_df = final_df.withColumn(\"row_idx\", row_number().over(Window.orderBy(monotonically_increasing_id())))\n",
    "d = d.withColumn(\"row_idx\", row_number().over(Window.orderBy(monotonically_increasing_id())))"
   ]
  },
  {
   "cell_type": "code",
   "execution_count": 119,
   "metadata": {},
   "outputs": [],
   "source": [
    "new_df = final_df.withColumn(\"row_idx\", row_number().over(Window.orderBy(monotonically_increasing_id())))\n",
    "e = e.withColumn(\"row_idx\", row_number().over(Window.orderBy(monotonically_increasing_id())))"
   ]
  },
  {
   "cell_type": "code",
   "execution_count": 125,
   "metadata": {},
   "outputs": [],
   "source": [
    "new_df = final_df.withColumn(\"row_idx\", row_number().over(Window.orderBy(monotonically_increasing_id())))\n",
    "f = f.withColumn(\"row_idx\", row_number().over(Window.orderBy(monotonically_increasing_id())))"
   ]
  },
  {
   "cell_type": "code",
   "execution_count": 132,
   "metadata": {},
   "outputs": [],
   "source": [
    "new_df = final_df.withColumn(\"row_idx\", row_number().over(Window.orderBy(monotonically_increasing_id())))\n",
    "g = g.withColumn(\"row_idx\", row_number().over(Window.orderBy(monotonically_increasing_id())))"
   ]
  },
  {
   "cell_type": "code",
   "execution_count": 139,
   "metadata": {},
   "outputs": [],
   "source": [
    "new_df = final_df.withColumn(\"row_idx\", row_number().over(Window.orderBy(monotonically_increasing_id())))\n",
    "h = h.withColumn(\"row_idx\", row_number().over(Window.orderBy(monotonically_increasing_id())))"
   ]
  },
  {
   "cell_type": "code",
   "execution_count": 146,
   "metadata": {},
   "outputs": [],
   "source": [
    "new_df = final_df.withColumn(\"row_idx\", row_number().over(Window.orderBy(monotonically_increasing_id())))\n",
    "i_horror = i_horror.withColumn(\"row_idx\", row_number().over(Window.orderBy(monotonically_increasing_id())))"
   ]
  },
  {
   "cell_type": "code",
   "execution_count": 152,
   "metadata": {},
   "outputs": [],
   "source": [
    "new_df = final_df.withColumn(\"row_idx\", row_number().over(Window.orderBy(monotonically_increasing_id())))\n",
    "j = j.withColumn(\"row_idx\", row_number().over(Window.orderBy(monotonically_increasing_id())))"
   ]
  },
  {
   "cell_type": "code",
   "execution_count": 160,
   "metadata": {},
   "outputs": [],
   "source": [
    "new_df = final_df.withColumn(\"row_idx\", row_number().over(Window.orderBy(monotonically_increasing_id())))\n",
    "k = k.withColumn(\"row_idx\", row_number().over(Window.orderBy(monotonically_increasing_id())))"
   ]
  },
  {
   "cell_type": "code",
   "execution_count": 167,
   "metadata": {},
   "outputs": [],
   "source": [
    "new_df = final_df.withColumn(\"row_idx\", row_number().over(Window.orderBy(monotonically_increasing_id())))\n",
    "l = l.withColumn(\"row_idx\", row_number().over(Window.orderBy(monotonically_increasing_id())))"
   ]
  },
  {
   "cell_type": "code",
   "execution_count": 173,
   "metadata": {},
   "outputs": [],
   "source": [
    "new_df = final_df.withColumn(\"row_idx\", row_number().over(Window.orderBy(monotonically_increasing_id())))\n",
    "m = m.withColumn(\"row_idx\", row_number().over(Window.orderBy(monotonically_increasing_id())))"
   ]
  },
  {
   "cell_type": "code",
   "execution_count": 179,
   "metadata": {},
   "outputs": [],
   "source": [
    "new_df = final_df.withColumn(\"row_idx\", row_number().over(Window.orderBy(monotonically_increasing_id())))\n",
    "n = n.withColumn(\"row_idx\", row_number().over(Window.orderBy(monotonically_increasing_id())))"
   ]
  },
  {
   "cell_type": "code",
   "execution_count": 187,
   "metadata": {},
   "outputs": [],
   "source": [
    "new_df = final_df.withColumn(\"row_idx\", row_number().over(Window.orderBy(monotonically_increasing_id())))\n",
    "o = o.withColumn(\"row_idx\", row_number().over(Window.orderBy(monotonically_increasing_id())))"
   ]
  },
  {
   "cell_type": "code",
   "execution_count": 194,
   "metadata": {},
   "outputs": [],
   "source": [
    "new_df = final_df.withColumn(\"row_idx\", row_number().over(Window.orderBy(monotonically_increasing_id())))\n",
    "p = p.withColumn(\"row_idx\", row_number().over(Window.orderBy(monotonically_increasing_id())))"
   ]
  },
  {
   "cell_type": "code",
   "execution_count": 201,
   "metadata": {},
   "outputs": [],
   "source": [
    "new_df = final_df.withColumn(\"row_idx\", row_number().over(Window.orderBy(monotonically_increasing_id())))\n",
    "q = q.withColumn(\"row_idx\", row_number().over(Window.orderBy(monotonically_increasing_id())))"
   ]
  },
  {
   "cell_type": "code",
   "execution_count": 207,
   "metadata": {},
   "outputs": [],
   "source": [
    "new_df = final_df.withColumn(\"row_idx\", row_number().over(Window.orderBy(monotonically_increasing_id())))\n",
    "r = r.withColumn(\"row_idx\", row_number().over(Window.orderBy(monotonically_increasing_id())))"
   ]
  },
  {
   "cell_type": "code",
   "execution_count": 215,
   "metadata": {},
   "outputs": [],
   "source": [
    "new_df = final_df.withColumn(\"row_idx\", row_number().over(Window.orderBy(monotonically_increasing_id())))\n",
    "s = s.withColumn(\"row_idx\", row_number().over(Window.orderBy(monotonically_increasing_id())))"
   ]
  },
  {
   "cell_type": "code",
   "execution_count": 222,
   "metadata": {},
   "outputs": [],
   "source": [
    "new_df = final_df.withColumn(\"row_idx\", row_number().over(Window.orderBy(monotonically_increasing_id())))\n",
    "t = t.withColumn(\"row_idx\", row_number().over(Window.orderBy(monotonically_increasing_id())))"
   ]
  },
  {
   "cell_type": "code",
   "execution_count": 228,
   "metadata": {},
   "outputs": [],
   "source": [
    "new_df = final_df.withColumn(\"row_idx\", row_number().over(Window.orderBy(monotonically_increasing_id())))\n",
    "u = u.withColumn(\"row_idx\", row_number().over(Window.orderBy(monotonically_increasing_id())))"
   ]
  },
  {
   "cell_type": "code",
   "execution_count": 43,
   "metadata": {},
   "outputs": [],
   "source": [
    "final_df = new_df.join(b, new_df.row_idx == b.row_idx).\\\n",
    "            drop(\"row_idx\")"
   ]
  },
  {
   "cell_type": "code",
   "execution_count": 64,
   "metadata": {},
   "outputs": [],
   "source": [
    "final_df = new_df.join(c, new_df.row_idx == c.row_idx).\\\n",
    "            drop(\"row_idx\")"
   ]
  },
  {
   "cell_type": "code",
   "execution_count": 110,
   "metadata": {},
   "outputs": [],
   "source": [
    "final_df = new_df.join(d, new_df.row_idx == d.row_idx).\\\n",
    "            drop(\"row_idx\")"
   ]
  },
  {
   "cell_type": "code",
   "execution_count": 120,
   "metadata": {},
   "outputs": [],
   "source": [
    "final_df = new_df.join(e, new_df.row_idx == e.row_idx).\\\n",
    "            drop(\"row_idx\")"
   ]
  },
  {
   "cell_type": "code",
   "execution_count": 126,
   "metadata": {},
   "outputs": [],
   "source": [
    "final_df = new_df.join(f, new_df.row_idx == f.row_idx).\\\n",
    "            drop(\"row_idx\")"
   ]
  },
  {
   "cell_type": "code",
   "execution_count": 133,
   "metadata": {},
   "outputs": [],
   "source": [
    "final_df = new_df.join(g, new_df.row_idx == g.row_idx).\\\n",
    "            drop(\"row_idx\")"
   ]
  },
  {
   "cell_type": "code",
   "execution_count": 140,
   "metadata": {},
   "outputs": [],
   "source": [
    "final_df = new_df.join(h, new_df.row_idx == h.row_idx).\\\n",
    "            drop(\"row_idx\")"
   ]
  },
  {
   "cell_type": "code",
   "execution_count": 147,
   "metadata": {},
   "outputs": [],
   "source": [
    "final_df = new_df.join(i_horror, new_df.row_idx == i_horror.row_idx).\\\n",
    "            drop(\"row_idx\")"
   ]
  },
  {
   "cell_type": "code",
   "execution_count": 153,
   "metadata": {},
   "outputs": [],
   "source": [
    "final_df = new_df.join(j, new_df.row_idx == j.row_idx).\\\n",
    "            drop(\"row_idx\")"
   ]
  },
  {
   "cell_type": "code",
   "execution_count": 161,
   "metadata": {},
   "outputs": [],
   "source": [
    "final_df = new_df.join(k, new_df.row_idx == k.row_idx).\\\n",
    "            drop(\"row_idx\")"
   ]
  },
  {
   "cell_type": "code",
   "execution_count": 168,
   "metadata": {},
   "outputs": [],
   "source": [
    "final_df = new_df.join(l, new_df.row_idx == l.row_idx).\\\n",
    "            drop(\"row_idx\")"
   ]
  },
  {
   "cell_type": "code",
   "execution_count": 174,
   "metadata": {},
   "outputs": [],
   "source": [
    "final_df = new_df.join(m, new_df.row_idx == m.row_idx).\\\n",
    "            drop(\"row_idx\")"
   ]
  },
  {
   "cell_type": "code",
   "execution_count": 180,
   "metadata": {},
   "outputs": [],
   "source": [
    "final_df = new_df.join(n, new_df.row_idx == n.row_idx).\\\n",
    "            drop(\"row_idx\")"
   ]
  },
  {
   "cell_type": "code",
   "execution_count": 188,
   "metadata": {},
   "outputs": [],
   "source": [
    "final_df = new_df.join(o, new_df.row_idx == o.row_idx).\\\n",
    "            drop(\"row_idx\")"
   ]
  },
  {
   "cell_type": "code",
   "execution_count": 195,
   "metadata": {},
   "outputs": [],
   "source": [
    "final_df = new_df.join(p, new_df.row_idx == p.row_idx).\\\n",
    "            drop(\"row_idx\")"
   ]
  },
  {
   "cell_type": "code",
   "execution_count": 202,
   "metadata": {},
   "outputs": [],
   "source": [
    "final_df = new_df.join(q, new_df.row_idx == q.row_idx).\\\n",
    "            drop(\"row_idx\")"
   ]
  },
  {
   "cell_type": "code",
   "execution_count": 208,
   "metadata": {},
   "outputs": [],
   "source": [
    "final_df = new_df.join(r, new_df.row_idx == r.row_idx).\\\n",
    "            drop(\"row_idx\")"
   ]
  },
  {
   "cell_type": "code",
   "execution_count": 216,
   "metadata": {},
   "outputs": [],
   "source": [
    "final_df = new_df.join(s, new_df.row_idx == s.row_idx).\\\n",
    "            drop(\"row_idx\")"
   ]
  },
  {
   "cell_type": "code",
   "execution_count": 223,
   "metadata": {},
   "outputs": [],
   "source": [
    "final_df = new_df.join(t, new_df.row_idx == t.row_idx).\\\n",
    "            drop(\"row_idx\")"
   ]
  },
  {
   "cell_type": "code",
   "execution_count": 229,
   "metadata": {},
   "outputs": [],
   "source": [
    "final_df = new_df.join(u, new_df.row_idx == u.row_idx).\\\n",
    "            drop(\"row_idx\")"
   ]
  },
  {
   "cell_type": "code",
   "execution_count": null,
   "metadata": {},
   "outputs": [],
   "source": [
    "final_df.show()"
   ]
  },
  {
   "cell_type": "code",
   "execution_count": null,
   "metadata": {},
   "outputs": [],
   "source": [
    "new_df.show()"
   ]
  },
  {
   "cell_type": "code",
   "execution_count": null,
   "metadata": {},
   "outputs": [],
   "source": [
    "final_df = result.join(new_df, result.)"
   ]
  },
  {
   "cell_type": "code",
   "execution_count": 38,
   "metadata": {},
   "outputs": [],
   "source": [
    "from pyspark import SparkContext\n",
    "sc =SparkContext.getOrCreate()"
   ]
  },
  {
   "cell_type": "code",
   "execution_count": 39,
   "metadata": {},
   "outputs": [],
   "source": [
    "from pyspark.sql import SQLContext\n",
    "sqlContext = SQLContext(sc)"
   ]
  },
  {
   "cell_type": "code",
   "execution_count": null,
   "metadata": {},
   "outputs": [],
   "source": []
  },
  {
   "cell_type": "code",
   "execution_count": 49,
   "metadata": {},
   "outputs": [],
   "source": [
    "import pyspark.sql.functions"
   ]
  },
  {
   "cell_type": "code",
   "execution_count": 50,
   "metadata": {},
   "outputs": [],
   "source": [
    "df_test = spark.read.option(\"inferSchema\",\"true\").csv(\"C:/Users/17169/Desktop/test.csv\")"
   ]
  },
  {
   "cell_type": "code",
   "execution_count": 51,
   "metadata": {},
   "outputs": [],
   "source": [
    "df_clean_test = df.select('_c0',(lower(regexp_replace('_c2',\"[^a-zA-Z\\\\s]\",\"\")).alias('_c2')))"
   ]
  },
  {
   "cell_type": "code",
   "execution_count": 52,
   "metadata": {},
   "outputs": [],
   "source": [
    "tokenizer_test = Tokenizer(inputCol='_c2',outputCol='words_token')"
   ]
  },
  {
   "cell_type": "code",
   "execution_count": 53,
   "metadata": {},
   "outputs": [],
   "source": [
    "df_words_token_test = tokenizer_test.transform(df_clean).select('_c0','words_token')"
   ]
  },
  {
   "cell_type": "code",
   "execution_count": 54,
   "metadata": {},
   "outputs": [],
   "source": [
    "df_words_no_stopw_test= remover.transform(df_words_token).select('_c0','words_clean')"
   ]
  },
  {
   "cell_type": "code",
   "execution_count": 55,
   "metadata": {},
   "outputs": [],
   "source": [
    "cv_test = CountVectorizer(inputCol=\"words_clean\",outputCol=\"features\",minDF=5)"
   ]
  },
  {
   "cell_type": "code",
   "execution_count": 56,
   "metadata": {},
   "outputs": [],
   "source": [
    "model_test = cv_test.fit(df_words_no_stopw_test)"
   ]
  },
  {
   "cell_type": "code",
   "execution_count": 57,
   "metadata": {},
   "outputs": [],
   "source": [
    "result_test = model_test.transform(df_words_no_stopw_test)"
   ]
  },
  {
   "cell_type": "code",
   "execution_count": null,
   "metadata": {},
   "outputs": [],
   "source": []
  },
  {
   "cell_type": "code",
   "execution_count": null,
   "metadata": {},
   "outputs": [],
   "source": [
    "result_test.show()"
   ]
  },
  {
   "cell_type": "code",
   "execution_count": null,
   "metadata": {},
   "outputs": [],
   "source": [
    "romance_film "
   ]
  },
  {
   "cell_type": "code",
   "execution_count": 70,
   "metadata": {},
   "outputs": [
    {
     "data": {
      "text/plain": [
       "[]"
      ]
     },
     "execution_count": 70,
     "metadata": {},
     "output_type": "execute_result"
    }
   ],
   "source": [
    "romance_film = []\n",
    "romance_film"
   ]
  },
  {
   "cell_type": "code",
   "execution_count": 71,
   "metadata": {},
   "outputs": [
    {
     "name": "stdout",
     "output_type": "stream",
     "text": [
      "['World cinema', 'Drama']\n",
      "2\n",
      "['Action/Adventure', 'Action', 'Science Fiction', 'Drama']\n",
      "2\n",
      "['Musical', 'Action', 'Drama']\n",
      "2\n",
      "['Comedy']\n",
      "2\n",
      "['Crime Fiction', 'World cinema', 'Drama']\n",
      "2\n",
      "['Action/Adventure', 'Action', 'Thriller', 'Drama']\n",
      "2\n",
      "['Thriller', 'Drama', 'Horror']\n",
      "2\n",
      "['Drama']\n",
      "2\n",
      "['Black-and-white', 'Comedy', 'Romance Film', 'Romantic comedy', 'Drama']\n",
      "1\n",
      "['Animation', 'Short Film', 'Family Film']\n",
      "2\n"
     ]
    }
   ],
   "source": [
    "from re import search\n",
    "for line in xxx_list:\n",
    "    #line = line.strip()\n",
    "    #words = line.split(',')\n",
    "    #for word in line:\n",
    "        print(line)\n",
    "        if search(\"Romance Film\", line):\n",
    "            print(\"1\")\n",
    "            romance_film.append(1)\n",
    "        else:\n",
    "            print(\"2\")\n",
    "            romance_film.append(0)"
   ]
  },
  {
   "cell_type": "code",
   "execution_count": 72,
   "metadata": {},
   "outputs": [
    {
     "name": "stdout",
     "output_type": "stream",
     "text": [
      "['World cinema', 'Drama']\n",
      "2\n",
      "['Action/Adventure', 'Action', 'Science Fiction', 'Drama']\n",
      "2\n",
      "['Musical', 'Action', 'Drama']\n",
      "2\n",
      "['Comedy']\n",
      "2\n",
      "['Crime Fiction', 'World cinema', 'Drama']\n",
      "2\n",
      "['Action/Adventure', 'Action', 'Thriller', 'Drama']\n",
      "1\n",
      "['Thriller', 'Drama', 'Horror']\n",
      "1\n",
      "['Drama']\n",
      "2\n",
      "['Black-and-white', 'Comedy', 'Romance Film', 'Romantic comedy', 'Drama']\n",
      "2\n",
      "['Animation', 'Short Film', 'Family Film']\n",
      "2\n"
     ]
    }
   ],
   "source": [
    "thriller=[]\n",
    "from re import search\n",
    "for line in xxx_list:\n",
    "    #line = line.strip()\n",
    "    #words = line.split(',')\n",
    "    #for word in line:\n",
    "        print(line)\n",
    "        if search(\"Thriller\", line):\n",
    "            print(\"1\")\n",
    "            thriller.append(1)\n",
    "        else:\n",
    "            print(\"2\")\n",
    "            thriller.append(0)"
   ]
  },
  {
   "cell_type": "code",
   "execution_count": 73,
   "metadata": {},
   "outputs": [
    {
     "name": "stdout",
     "output_type": "stream",
     "text": [
      "['World cinema', 'Drama']\n",
      "2\n",
      "['Action/Adventure', 'Action', 'Science Fiction', 'Drama']\n",
      "1\n",
      "['Musical', 'Action', 'Drama']\n",
      "1\n",
      "['Comedy']\n",
      "2\n",
      "['Crime Fiction', 'World cinema', 'Drama']\n",
      "2\n",
      "['Action/Adventure', 'Action', 'Thriller', 'Drama']\n",
      "1\n",
      "['Thriller', 'Drama', 'Horror']\n",
      "2\n",
      "['Drama']\n",
      "2\n",
      "['Black-and-white', 'Comedy', 'Romance Film', 'Romantic comedy', 'Drama']\n",
      "2\n",
      "['Animation', 'Short Film', 'Family Film']\n",
      "2\n"
     ]
    }
   ],
   "source": [
    "action=[]\n",
    "from re import search\n",
    "for line in xxx_list:\n",
    "    #line = line.strip()\n",
    "    #words = line.split(',')\n",
    "    #for word in line:\n",
    "        print(line)\n",
    "        if search(\"Action\", line):\n",
    "            print(\"1\")\n",
    "            action.append(1)\n",
    "        else:\n",
    "            print(\"2\")\n",
    "            action.append(0)"
   ]
  },
  {
   "cell_type": "code",
   "execution_count": 74,
   "metadata": {},
   "outputs": [
    {
     "name": "stdout",
     "output_type": "stream",
     "text": [
      "['World cinema', 'Drama']\n",
      "1\n",
      "['Action/Adventure', 'Action', 'Science Fiction', 'Drama']\n",
      "2\n",
      "['Musical', 'Action', 'Drama']\n",
      "2\n",
      "['Comedy']\n",
      "2\n",
      "['Crime Fiction', 'World cinema', 'Drama']\n",
      "1\n",
      "['Action/Adventure', 'Action', 'Thriller', 'Drama']\n",
      "2\n",
      "['Thriller', 'Drama', 'Horror']\n",
      "2\n",
      "['Drama']\n",
      "2\n",
      "['Black-and-white', 'Comedy', 'Romance Film', 'Romantic comedy', 'Drama']\n",
      "2\n",
      "['Animation', 'Short Film', 'Family Film']\n",
      "2\n"
     ]
    }
   ],
   "source": [
    "world_cinema =[]\n",
    "\n",
    "from re import search\n",
    "for line in xxx_list:\n",
    "    #line = line.strip()\n",
    "    #words = line.split(',')\n",
    "    #for word in line:\n",
    "        print(line)\n",
    "        if search(\"World cinema\", line):\n",
    "            print(\"1\")\n",
    "            world_cinema.append(1)\n",
    "        else:\n",
    "            print(\"2\")\n",
    "            world_cinema.append(0)"
   ]
  },
  {
   "cell_type": "code",
   "execution_count": 75,
   "metadata": {},
   "outputs": [
    {
     "name": "stdout",
     "output_type": "stream",
     "text": [
      "['World cinema', 'Drama']\n",
      "2\n",
      "['Action/Adventure', 'Action', 'Science Fiction', 'Drama']\n",
      "2\n",
      "['Musical', 'Action', 'Drama']\n",
      "2\n",
      "['Comedy']\n",
      "2\n",
      "['Crime Fiction', 'World cinema', 'Drama']\n",
      "1\n",
      "['Action/Adventure', 'Action', 'Thriller', 'Drama']\n",
      "2\n",
      "['Thriller', 'Drama', 'Horror']\n",
      "2\n",
      "['Drama']\n",
      "2\n",
      "['Black-and-white', 'Comedy', 'Romance Film', 'Romantic comedy', 'Drama']\n",
      "2\n",
      "['Animation', 'Short Film', 'Family Film']\n",
      "2\n"
     ]
    }
   ],
   "source": [
    "crime_fiction=[]\n",
    "from re import search\n",
    "for line in xxx_list:\n",
    "    #line = line.strip()\n",
    "    #words = line.split(',')\n",
    "    #for word in line:\n",
    "        print(line)\n",
    "        if search(\"Crime Fiction\", line):\n",
    "            print(\"1\")\n",
    "            crime_fiction.append(1)\n",
    "        else:\n",
    "            print(\"2\")\n",
    "            crime_fiction.append(0)"
   ]
  },
  {
   "cell_type": "code",
   "execution_count": null,
   "metadata": {},
   "outputs": [],
   "source": [
    "world_cinema"
   ]
  },
  {
   "cell_type": "code",
   "execution_count": 76,
   "metadata": {},
   "outputs": [
    {
     "name": "stdout",
     "output_type": "stream",
     "text": [
      "['World cinema', 'Drama']\n",
      "2\n",
      "['Action/Adventure', 'Action', 'Science Fiction', 'Drama']\n",
      "2\n",
      "['Musical', 'Action', 'Drama']\n",
      "2\n",
      "['Comedy']\n",
      "2\n",
      "['Crime Fiction', 'World cinema', 'Drama']\n",
      "2\n",
      "['Action/Adventure', 'Action', 'Thriller', 'Drama']\n",
      "2\n",
      "['Thriller', 'Drama', 'Horror']\n",
      "1\n",
      "['Drama']\n",
      "2\n",
      "['Black-and-white', 'Comedy', 'Romance Film', 'Romantic comedy', 'Drama']\n",
      "2\n",
      "['Animation', 'Short Film', 'Family Film']\n",
      "2\n"
     ]
    }
   ],
   "source": [
    "horror=[]\n",
    "from re import search\n",
    "for line in xxx_list:\n",
    "    #line = line.strip()\n",
    "    #words = line.split(',')\n",
    "    #for word in line:\n",
    "        print(line)\n",
    "        if search(\"Horror\", line):\n",
    "            print(\"1\")\n",
    "            horror.append(1)\n",
    "        else:\n",
    "            print(\"2\")\n",
    "            horror.append(0)"
   ]
  },
  {
   "cell_type": "code",
   "execution_count": 77,
   "metadata": {},
   "outputs": [
    {
     "name": "stdout",
     "output_type": "stream",
     "text": [
      "['World cinema', 'Drama']\n",
      "2\n",
      "['Action/Adventure', 'Action', 'Science Fiction', 'Drama']\n",
      "2\n",
      "['Musical', 'Action', 'Drama']\n",
      "2\n",
      "['Comedy']\n",
      "2\n",
      "['Crime Fiction', 'World cinema', 'Drama']\n",
      "2\n",
      "['Action/Adventure', 'Action', 'Thriller', 'Drama']\n",
      "2\n",
      "['Thriller', 'Drama', 'Horror']\n",
      "2\n",
      "['Drama']\n",
      "2\n",
      "['Black-and-white', 'Comedy', 'Romance Film', 'Romantic comedy', 'Drama']\n",
      "1\n",
      "['Animation', 'Short Film', 'Family Film']\n",
      "2\n"
     ]
    }
   ],
   "source": [
    "bnw=[]\n",
    "from re import search\n",
    "for line in xxx_list:\n",
    "    #line = line.strip()\n",
    "    #words = line.split(',')\n",
    "    #for word in line:\n",
    "        print(line)\n",
    "        if search(\"Black-and-white\", line):\n",
    "            print(\"1\")\n",
    "            bnw.append(1)\n",
    "        else:\n",
    "            print(\"2\")\n",
    "            bnw.append(0)"
   ]
  },
  {
   "cell_type": "code",
   "execution_count": 78,
   "metadata": {},
   "outputs": [
    {
     "name": "stdout",
     "output_type": "stream",
     "text": [
      "['World cinema', 'Drama']\n",
      "2\n",
      "['Action/Adventure', 'Action', 'Science Fiction', 'Drama']\n",
      "2\n",
      "['Musical', 'Action', 'Drama']\n",
      "2\n",
      "['Comedy']\n",
      "2\n",
      "['Crime Fiction', 'World cinema', 'Drama']\n",
      "2\n",
      "['Action/Adventure', 'Action', 'Thriller', 'Drama']\n",
      "2\n",
      "['Thriller', 'Drama', 'Horror']\n",
      "2\n",
      "['Drama']\n",
      "2\n",
      "['Black-and-white', 'Comedy', 'Romance Film', 'Romantic comedy', 'Drama']\n",
      "2\n",
      "['Animation', 'Short Film', 'Family Film']\n",
      "2\n"
     ]
    }
   ],
   "source": [
    "indie=[]\n",
    "from re import search\n",
    "for line in xxx_list:\n",
    "    #line = line.strip()\n",
    "    #words = line.split(',')\n",
    "    #for word in line:\n",
    "        print(line)\n",
    "        if search(\"Indie\", line):\n",
    "            print(\"1\")\n",
    "            indie.append(1)\n",
    "        else:\n",
    "            print(\"2\")\n",
    "            indie.append(0)"
   ]
  },
  {
   "cell_type": "code",
   "execution_count": 96,
   "metadata": {},
   "outputs": [
    {
     "name": "stdout",
     "output_type": "stream",
     "text": [
      "['World cinema', 'Drama']\n",
      "2\n",
      "['Action/Adventure', 'Action', 'Science Fiction', 'Drama']\n",
      "1\n",
      "['Musical', 'Action', 'Drama']\n",
      "2\n",
      "['Comedy']\n",
      "2\n",
      "['Crime Fiction', 'World cinema', 'Drama']\n",
      "2\n",
      "['Action/Adventure', 'Action', 'Thriller', 'Drama']\n",
      "1\n",
      "['Thriller', 'Drama', 'Horror']\n",
      "2\n",
      "['Drama']\n",
      "2\n",
      "['Black-and-white', 'Comedy', 'Romance Film', 'Romantic comedy', 'Drama']\n",
      "2\n",
      "['Animation', 'Short Film', 'Family Film']\n",
      "2\n"
     ]
    }
   ],
   "source": [
    "ana=[]\n",
    "from re import search\n",
    "for line in xxx_list:\n",
    "    #line = line.strip()\n",
    "    #words = line.split(',')\n",
    "    #for word in line:\n",
    "        print(line)\n",
    "        if search(\"Action/Adventure\", line):\n",
    "            print(\"1\")\n",
    "            ana.append(1)\n",
    "        else:\n",
    "            print(\"2\")\n",
    "            ana.append(0)"
   ]
  },
  {
   "cell_type": "code",
   "execution_count": 79,
   "metadata": {},
   "outputs": [
    {
     "name": "stdout",
     "output_type": "stream",
     "text": [
      "['World cinema', 'Drama']\n",
      "2\n",
      "['Action/Adventure', 'Action', 'Science Fiction', 'Drama']\n",
      "1\n",
      "['Musical', 'Action', 'Drama']\n",
      "2\n",
      "['Comedy']\n",
      "2\n",
      "['Crime Fiction', 'World cinema', 'Drama']\n",
      "2\n",
      "['Action/Adventure', 'Action', 'Thriller', 'Drama']\n",
      "1\n",
      "['Thriller', 'Drama', 'Horror']\n",
      "2\n",
      "['Drama']\n",
      "2\n",
      "['Black-and-white', 'Comedy', 'Romance Film', 'Romantic comedy', 'Drama']\n",
      "2\n",
      "['Animation', 'Short Film', 'Family Film']\n",
      "2\n"
     ]
    }
   ],
   "source": [
    "adventure=[]\n",
    "from re import search\n",
    "for line in xxx_list:\n",
    "    #line = line.strip()\n",
    "    #words = line.split(',')\n",
    "    #for word in line:\n",
    "        print(line)\n",
    "        if search(\"Adventure\", line):\n",
    "            print(\"1\")\n",
    "            adventure.append(1)\n",
    "        else:\n",
    "            print(\"2\")\n",
    "            adventure.append(0)"
   ]
  },
  {
   "cell_type": "code",
   "execution_count": 100,
   "metadata": {},
   "outputs": [
    {
     "name": "stdout",
     "output_type": "stream",
     "text": [
      "['World cinema', 'Drama']\n",
      "2\n",
      "['Action/Adventure', 'Action', 'Science Fiction', 'Drama']\n",
      "2\n",
      "['Musical', 'Action', 'Drama']\n",
      "2\n",
      "['Comedy']\n",
      "2\n",
      "['Crime Fiction', 'World cinema', 'Drama']\n",
      "2\n",
      "['Action/Adventure', 'Action', 'Thriller', 'Drama']\n",
      "2\n",
      "['Thriller', 'Drama', 'Horror']\n",
      "2\n",
      "['Drama']\n",
      "2\n",
      "['Black-and-white', 'Comedy', 'Romance Film', 'Romantic comedy', 'Drama']\n",
      "2\n",
      "['Animation', 'Short Film', 'Family Film']\n",
      "1\n"
     ]
    }
   ],
   "source": [
    "family_film=[]\n",
    "from re import search\n",
    "for line in xxx_list:\n",
    "    #line = line.strip()\n",
    "    #words = line.split(',')\n",
    "    #for word in line:\n",
    "        print(line)\n",
    "        if search(\"Family Film\", line):\n",
    "            print(\"1\")\n",
    "            family_film.append(1)\n",
    "        else:\n",
    "            print(\"2\")\n",
    "            family_film.append(0)"
   ]
  },
  {
   "cell_type": "code",
   "execution_count": null,
   "metadata": {},
   "outputs": [],
   "source": [
    "family_film"
   ]
  },
  {
   "cell_type": "code",
   "execution_count": 80,
   "metadata": {},
   "outputs": [
    {
     "name": "stdout",
     "output_type": "stream",
     "text": [
      "['World cinema', 'Drama']\n",
      "2\n",
      "['Action/Adventure', 'Action', 'Science Fiction', 'Drama']\n",
      "2\n",
      "['Musical', 'Action', 'Drama']\n",
      "2\n",
      "['Comedy']\n",
      "2\n",
      "['Crime Fiction', 'World cinema', 'Drama']\n",
      "2\n",
      "['Action/Adventure', 'Action', 'Thriller', 'Drama']\n",
      "2\n",
      "['Thriller', 'Drama', 'Horror']\n",
      "2\n",
      "['Drama']\n",
      "2\n",
      "['Black-and-white', 'Comedy', 'Romance Film', 'Romantic comedy', 'Drama']\n",
      "2\n",
      "['Animation', 'Short Film', 'Family Film']\n",
      "1\n"
     ]
    }
   ],
   "source": [
    "short_film = []\n",
    "from re import search\n",
    "for line in xxx_list:\n",
    "        print(line)\n",
    "        if search(\"Short Film\", line):\n",
    "            print(\"1\")\n",
    "            short_film.append(1)\n",
    "        else:\n",
    "            print(\"2\")\n",
    "            short_film.append(0)"
   ]
  },
  {
   "cell_type": "code",
   "execution_count": null,
   "metadata": {},
   "outputs": [],
   "source": [
    "short_film"
   ]
  },
  {
   "cell_type": "code",
   "execution_count": 81,
   "metadata": {},
   "outputs": [
    {
     "name": "stdout",
     "output_type": "stream",
     "text": [
      "['World cinema', 'Drama']\n",
      "2\n",
      "['Action/Adventure', 'Action', 'Science Fiction', 'Drama']\n",
      "2\n",
      "['Musical', 'Action', 'Drama']\n",
      "2\n",
      "['Comedy']\n",
      "2\n",
      "['Crime Fiction', 'World cinema', 'Drama']\n",
      "2\n",
      "['Action/Adventure', 'Action', 'Thriller', 'Drama']\n",
      "2\n",
      "['Thriller', 'Drama', 'Horror']\n",
      "2\n",
      "['Drama']\n",
      "2\n",
      "['Black-and-white', 'Comedy', 'Romance Film', 'Romantic comedy', 'Drama']\n",
      "2\n",
      "['Animation', 'Short Film', 'Family Film']\n",
      "1\n"
     ]
    }
   ],
   "source": [
    "animation = []\n",
    "from re import search\n",
    "for line in xxx_list:\n",
    "        print(line)\n",
    "        if search(\"Animation\", line):\n",
    "            print(\"1\")\n",
    "            animation.append(1)\n",
    "        else:\n",
    "            print(\"2\")\n",
    "            animation.append(0)"
   ]
  },
  {
   "cell_type": "code",
   "execution_count": null,
   "metadata": {},
   "outputs": [],
   "source": [
    "animation"
   ]
  },
  {
   "cell_type": "code",
   "execution_count": 82,
   "metadata": {},
   "outputs": [
    {
     "name": "stdout",
     "output_type": "stream",
     "text": [
      "['World cinema', 'Drama']\n",
      "2\n",
      "['Action/Adventure', 'Action', 'Science Fiction', 'Drama']\n",
      "2\n",
      "['Musical', 'Action', 'Drama']\n",
      "2\n",
      "['Comedy']\n",
      "2\n",
      "['Crime Fiction', 'World cinema', 'Drama']\n",
      "2\n",
      "['Action/Adventure', 'Action', 'Thriller', 'Drama']\n",
      "2\n",
      "['Thriller', 'Drama', 'Horror']\n",
      "2\n",
      "['Drama']\n",
      "2\n",
      "['Black-and-white', 'Comedy', 'Romance Film', 'Romantic comedy', 'Drama']\n",
      "2\n",
      "['Animation', 'Short Film', 'Family Film']\n",
      "2\n"
     ]
    }
   ],
   "source": [
    "romantic_drama=[]\n",
    "\n",
    "from re import search\n",
    "for line in xxx_list:\n",
    "        print(line)\n",
    "        if search(\"Romantic drama\", line):\n",
    "            print(\"1\")\n",
    "            romantic_drama.append(1)\n",
    "        else:\n",
    "            print(\"2\")\n",
    "            romantic_drama.append(0)"
   ]
  },
  {
   "cell_type": "code",
   "execution_count": null,
   "metadata": {},
   "outputs": [],
   "source": [
    "romantic_drama"
   ]
  },
  {
   "cell_type": "code",
   "execution_count": 83,
   "metadata": {},
   "outputs": [
    {
     "name": "stdout",
     "output_type": "stream",
     "text": [
      "['World cinema', 'Drama']\n",
      "2\n",
      "['Action/Adventure', 'Action', 'Science Fiction', 'Drama']\n",
      "2\n",
      "['Musical', 'Action', 'Drama']\n",
      "1\n",
      "['Comedy']\n",
      "2\n",
      "['Crime Fiction', 'World cinema', 'Drama']\n",
      "2\n",
      "['Action/Adventure', 'Action', 'Thriller', 'Drama']\n",
      "2\n",
      "['Thriller', 'Drama', 'Horror']\n",
      "2\n",
      "['Drama']\n",
      "2\n",
      "['Black-and-white', 'Comedy', 'Romance Film', 'Romantic comedy', 'Drama']\n",
      "2\n",
      "['Animation', 'Short Film', 'Family Film']\n",
      "2\n"
     ]
    }
   ],
   "source": [
    "musical=[]\n",
    "\n",
    "from re import search\n",
    "for line in xxx_list:\n",
    "        print(line)\n",
    "        if search(\"Musical\", line):\n",
    "            print(\"1\")\n",
    "            musical.append(1)\n",
    "        else:\n",
    "            print(\"2\")\n",
    "            musical.append(0)"
   ]
  },
  {
   "cell_type": "code",
   "execution_count": null,
   "metadata": {},
   "outputs": [],
   "source": [
    "musical"
   ]
  },
  {
   "cell_type": "code",
   "execution_count": 84,
   "metadata": {},
   "outputs": [
    {
     "name": "stdout",
     "output_type": "stream",
     "text": [
      "['World cinema', 'Drama']\n",
      "2\n",
      "['Action/Adventure', 'Action', 'Science Fiction', 'Drama']\n",
      "1\n",
      "['Musical', 'Action', 'Drama']\n",
      "2\n",
      "['Comedy']\n",
      "2\n",
      "['Crime Fiction', 'World cinema', 'Drama']\n",
      "2\n",
      "['Action/Adventure', 'Action', 'Thriller', 'Drama']\n",
      "2\n",
      "['Thriller', 'Drama', 'Horror']\n",
      "2\n",
      "['Drama']\n",
      "2\n",
      "['Black-and-white', 'Comedy', 'Romance Film', 'Romantic comedy', 'Drama']\n",
      "2\n",
      "['Animation', 'Short Film', 'Family Film']\n",
      "2\n"
     ]
    }
   ],
   "source": [
    "science_fiction =[]\n",
    "\n",
    "from re import search\n",
    "for line in xxx_list:\n",
    "        print(line)\n",
    "        if search(\"Science Fiction\", line):\n",
    "            print(\"1\")\n",
    "            science_fiction.append(1)\n",
    "        else:\n",
    "            print(\"2\")\n",
    "            science_fiction.append(0)"
   ]
  },
  {
   "cell_type": "code",
   "execution_count": null,
   "metadata": {},
   "outputs": [],
   "source": [
    "science_fiction"
   ]
  },
  {
   "cell_type": "code",
   "execution_count": 85,
   "metadata": {},
   "outputs": [
    {
     "name": "stdout",
     "output_type": "stream",
     "text": [
      "['World cinema', 'Drama']\n",
      "2\n",
      "['Action/Adventure', 'Action', 'Science Fiction', 'Drama']\n",
      "2\n",
      "['Musical', 'Action', 'Drama']\n",
      "2\n",
      "['Comedy']\n",
      "2\n",
      "['Crime Fiction', 'World cinema', 'Drama']\n",
      "2\n",
      "['Action/Adventure', 'Action', 'Thriller', 'Drama']\n",
      "2\n",
      "['Thriller', 'Drama', 'Horror']\n",
      "2\n",
      "['Drama']\n",
      "2\n",
      "['Black-and-white', 'Comedy', 'Romance Film', 'Romantic comedy', 'Drama']\n",
      "2\n",
      "['Animation', 'Short Film', 'Family Film']\n",
      "2\n"
     ]
    }
   ],
   "source": [
    "mystery=[]\n",
    "from re import search\n",
    "for line in xxx_list:\n",
    "        print(line)\n",
    "        if search(\"Mystery\", line):\n",
    "            print(\"1\")\n",
    "            mystery.append(1)\n",
    "        else:\n",
    "            print(\"2\")\n",
    "            mystery.append(0)"
   ]
  },
  {
   "cell_type": "code",
   "execution_count": 86,
   "metadata": {},
   "outputs": [
    {
     "name": "stdout",
     "output_type": "stream",
     "text": [
      "['World cinema', 'Drama']\n",
      "2\n",
      "['Action/Adventure', 'Action', 'Science Fiction', 'Drama']\n",
      "2\n",
      "['Musical', 'Action', 'Drama']\n",
      "2\n",
      "['Comedy']\n",
      "2\n",
      "['Crime Fiction', 'World cinema', 'Drama']\n",
      "2\n",
      "['Action/Adventure', 'Action', 'Thriller', 'Drama']\n",
      "2\n",
      "['Thriller', 'Drama', 'Horror']\n",
      "2\n",
      "['Drama']\n",
      "2\n",
      "['Black-and-white', 'Comedy', 'Romance Film', 'Romantic comedy', 'Drama']\n",
      "2\n",
      "['Animation', 'Short Film', 'Family Film']\n",
      "2\n"
     ]
    }
   ],
   "source": [
    "romantic_comedy=[]\n",
    "from re import search\n",
    "for line in xxx_list:\n",
    "        print(line)\n",
    "        if search(\"Romantic Comedy\", line):\n",
    "            print(\"1\")\n",
    "            romantic_comedy.append(1)\n",
    "        else:\n",
    "            print(\"2\")\n",
    "            romantic_comedy.append(0)"
   ]
  },
  {
   "cell_type": "code",
   "execution_count": null,
   "metadata": {},
   "outputs": [],
   "source": []
  }
 ],
 "metadata": {
  "kernelspec": {
   "display_name": "Python 3",
   "language": "python",
   "name": "python3"
  },
  "language_info": {
   "codemirror_mode": {
    "name": "ipython",
    "version": 3
   },
   "file_extension": ".py",
   "mimetype": "text/x-python",
   "name": "python",
   "nbconvert_exporter": "python",
   "pygments_lexer": "ipython3",
   "version": "3.7.6"
  }
 },
 "nbformat": 4,
 "nbformat_minor": 2
}
